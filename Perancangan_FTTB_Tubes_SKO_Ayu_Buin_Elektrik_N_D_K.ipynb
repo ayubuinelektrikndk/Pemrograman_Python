{
  "nbformat": 4,
  "nbformat_minor": 0,
  "metadata": {
    "colab": {
      "name": "Perancangan FTTB_Tubes SKO_Ayu Buin Elektrik N.D.K.ipynb",
      "provenance": [],
      "authorship_tag": "ABX9TyPrXHBtfaPcD2WBcZ6cCQai",
      "include_colab_link": true
    },
    "kernelspec": {
      "name": "python3",
      "display_name": "Python 3"
    }
  },
  "cells": [
    {
      "cell_type": "markdown",
      "metadata": {
        "id": "view-in-github",
        "colab_type": "text"
      },
      "source": [
        "<a href=\"https://colab.research.google.com/github/ayubuinelektrikndk/Pemrograman_Python/blob/main/Perancangan_FTTB_Tubes_SKO_Ayu_Buin_Elektrik_N_D_K.ipynb\" target=\"_parent\"><img src=\"https://colab.research.google.com/assets/colab-badge.svg\" alt=\"Open In Colab\"/></a>"
      ]
    },
    {
      "cell_type": "markdown",
      "metadata": {
        "id": "a-spFyR4Gt2a"
      },
      "source": [
        "Nama : Ayu Buin Elektrik N.D.K\r\n",
        "\r\n",
        "Kelas : TT - 42  - 07\r\n",
        "\r\n",
        "Nim : 1101184201"
      ]
    },
    {
      "cell_type": "code",
      "metadata": {
        "id": "zmF72Aul8c64"
      },
      "source": [
        "import numpy as np\r\n",
        "import matplotlib.pyplot as plt\r\n",
        "import math as m"
      ],
      "execution_count": 142,
      "outputs": []
    },
    {
      "cell_type": "code",
      "metadata": {
        "id": "XkNQSivE8hWv"
      },
      "source": [
        "#Converter\r\n",
        "NtL = lambda x: 10*np.log10(x)\r\n",
        "LtN = lambda x: 10**(x/10)\r\n",
        "\r\n",
        "#Parameter\r\n",
        "SM = 6 #safety margin 3 dB\r\n",
        "R = 0.8 # Responsivitas (A/W)\r\n",
        "M = -0.23 #Tambahan daya sinyal APD (dB)\r\n",
        "q = 1.6*10**-19\r\n",
        "K = 1.38 * 10**-23 #Konstanta Boltzman\r\n",
        "Teff= 290 #Kelvin\r\n",
        "B = 8*10**9 #Bandwith (Hz) \r\n",
        "RL = 50 #Ekivalensi Resistensi (Ohm)\r\n",
        "id = 200*10**-9 #Arus gelap(A)\r\n",
        "F = 1 #F(M), Faktor Gain\r\n",
        "\r\n",
        "#Perhitungan jarak\r\n",
        "#Jarak dari Sentral Ke ODP = 16 km\r\n",
        "#Jarak dari ODP ke Roset = <500 m --> 3*25 = 75 m (Jarak per lantai 3 m, berada pada lantai 25)\r\n",
        "#Jarak Total = 16000 + 75 = 16075 m\r\n",
        "\r\n",
        "d = np.arange(0.075,16.076,1) #Jarak (km)\r\n",
        "L_fiber = 0.28 #0.28 #Loss dari fiber berdasarkan jenis G625D (dB)  \r\n",
        "N_splicer = 8 #Jumlah Splicer\r\n",
        "L_splicer = 0.1 #Loss dari splicer (db)\r\n",
        "N_connector = 6 #Jumlah Konektor\r\n",
        "L_connector = 0.3 #Loss dari konektor (dB)\r\n",
        "L_splitter = 16 + 16 #loss dari splitter (dB) \r\n",
        "Pt = 3 #Daya tx (dBm)"
      ],
      "execution_count": 143,
      "outputs": []
    },
    {
      "cell_type": "code",
      "metadata": {
        "colab": {
          "base_uri": "https://localhost:8080/"
        },
        "id": "wlddW3Tv8m29",
        "outputId": "c4be6e20-52f8-46cb-e04c-d1ece7c21b89"
      },
      "source": [
        "#RUMUS PR\r\n",
        "def P_receive():\r\n",
        "  #Pr,Pt (dBm)\r\n",
        "  #L_fiber,N_splitter,L_splicer,N_connector,L_connector,L_splitter (dB)\r\n",
        "\r\n",
        "  hambatan_fiber = d * L_fiber\r\n",
        "  hambatan_splicer = N_splicer * L_splicer\r\n",
        "  hambatan_connector = N_connector * L_connector\r\n",
        "\r\n",
        "  alfa_total = hambatan_fiber + hambatan_splicer + hambatan_connector + L_splitter + SM\r\n",
        "  Pr = Pt - alfa_total\r\n",
        "  return Pr,alfa_total\r\n",
        "Pr,alfa_total = P_receive()\r\n",
        "print('Hambatan Total = ', alfa_total)\r\n",
        "print('\\nDaya Terima = ', Pr)"
      ],
      "execution_count": 144,
      "outputs": [
        {
          "output_type": "stream",
          "text": [
            "Hambatan Total =  [40.621 40.901 41.181 41.461 41.741 42.021 42.301 42.581 42.861 43.141\n",
            " 43.421 43.701 43.981 44.261 44.541 44.821 45.101]\n",
            "\n",
            "Daya Terima =  [-37.621 -37.901 -38.181 -38.461 -38.741 -39.021 -39.301 -39.581 -39.861\n",
            " -40.141 -40.421 -40.701 -40.981 -41.261 -41.541 -41.821 -42.101]\n"
          ],
          "name": "stdout"
        }
      ]
    },
    {
      "cell_type": "code",
      "metadata": {
        "colab": {
          "base_uri": "https://localhost:8080/"
        },
        "id": "uClEWtOP8rsF",
        "outputId": "b7cf171f-9fe3-4e00-f71a-8fb95c372666"
      },
      "source": [
        "#Signal Power\r\n",
        "def signal_power():\r\n",
        "  Pr_num = LtN(Pr)\r\n",
        "  ip = Pr_num * R\r\n",
        "  Is_kuadrat = (ip*M)**2\r\n",
        "  return ip,Is_kuadrat\r\n",
        "ip,Is_kuadrat = signal_power()\r\n",
        "print('Arus Primer = ', ip)\r\n",
        "print('\\nIs^2 = ', Is_kuadrat)"
      ],
      "execution_count": 145,
      "outputs": [
        {
          "output_type": "stream",
          "text": [
            "Arus Primer =  [1.38353448e-04 1.29714936e-04 1.21615796e-04 1.14022350e-04\n",
            " 1.06903023e-04 1.00228213e-04 9.39701645e-05 8.81028560e-05\n",
            " 8.26018905e-05 7.74443942e-05 7.26089217e-05 6.80753663e-05\n",
            " 6.38248771e-05 5.98397798e-05 5.61035041e-05 5.26005139e-05\n",
            " 4.93162434e-05]\n",
            "\n",
            "Is^2 =  [1.01259469e-09 8.90093534e-10 7.82412258e-10 6.87757992e-10\n",
            " 6.04554761e-10 5.31417248e-10 4.67127727e-10 4.10615790e-10\n",
            " 3.60940525e-10 3.17274849e-10 2.78891736e-10 2.45152116e-10\n",
            " 2.15494230e-10 1.89424280e-10 1.66508208e-10 1.46364464e-10\n",
            " 1.28657659e-10]\n"
          ],
          "name": "stdout"
        }
      ]
    },
    {
      "cell_type": "code",
      "metadata": {
        "colab": {
          "base_uri": "https://localhost:8080/"
        },
        "id": "605UWLk387zG",
        "outputId": "eafdaa1a-2fd0-43a4-cd13-4cde422ee2e8"
      },
      "source": [
        "#RUMUS SNR\r\n",
        "def SNR():\r\n",
        "  #PARAMETER PELENGKAP RUMUS NOISE\r\n",
        "  BDC = 2*q*id*B*(M**2)*F #Dark Current (Numerik)\r\n",
        "  SN = 2*q*ip*B*(M**2)*F #Shot Noise (Numerik)\r\n",
        "  NT = (4*K*Teff*B)/RL #Noise Thermal (Numerik)\r\n",
        "\r\n",
        "  #PARAMETER RUMUS\r\n",
        "  Signal = Is_kuadrat # (Numerik)\r\n",
        "  Noise = BDC + SN + NT # (Numerik)\r\n",
        "\r\n",
        "  #RUMUS SNR\r\n",
        "  SNR = Signal / Noise\r\n",
        "  SNR_dBm = NtL(SNR)\r\n",
        "  \r\n",
        "  return SNR, SNR_dBm\r\n",
        "\r\n",
        "SNR, SNR_dBm = SNR()\r\n",
        "print('SNR dalam numerik = ', SNR)\r\n",
        "print('\\nSNR dalam logaritmik = ', SNR_dBm)"
      ],
      "execution_count": 146,
      "outputs": [
        {
          "output_type": "stream",
          "text": [
            "SNR dalam numerik =  [392.47195086 345.14818159 303.52211393 266.90924878 234.70705867\n",
            " 206.38521696 181.47698374 159.57161292 140.30766043 123.36708777\n",
            " 108.470067    95.37040441  83.8515098   73.72284664  64.81680626\n",
            "  56.98595553  50.10061386]\n",
            "\n",
            "SNR dalam logaritmik =  [25.93808624 25.3800559  24.82190338 24.26363623 23.70526151 23.14678586\n",
            " 22.58821552 22.02955635 21.47081383 20.91199313 20.35309908 19.79413624\n",
            " 19.23510887 18.67602096 18.11687628 17.55767835 16.99843047]\n"
          ],
          "name": "stdout"
        }
      ]
    },
    {
      "cell_type": "code",
      "metadata": {
        "colab": {
          "base_uri": "https://localhost:8080/"
        },
        "id": "yDn18mDN87j4",
        "outputId": "cf56f98f-b47e-4f87-baaa-8a188621d13d"
      },
      "source": [
        "#RUMUS Q\r\n",
        "def Q_rumus():\r\n",
        "  Q_rumus = (0.5*10**(SNR_dBm/20)) #penurunan rumus SNR\r\n",
        "  return Q_rumus\r\n",
        "Q = Q_rumus()\r\n",
        "print('Q factor = ', Q)"
      ],
      "execution_count": 147,
      "outputs": [
        {
          "output_type": "stream",
          "text": [
            "Q factor =  [9.90545242 9.28908205 8.71094303 8.16867873 7.66007602 7.18305675\n",
            " 6.73566967 6.3160829  5.92257673 5.55353689 5.2074482  4.8828886\n",
            " 4.5785235  4.29310047 4.02544427 3.77445213 3.53908936]\n"
          ],
          "name": "stdout"
        }
      ]
    },
    {
      "cell_type": "code",
      "metadata": {
        "colab": {
          "base_uri": "https://localhost:8080/"
        },
        "id": "4pV_N2ia9AyG",
        "outputId": "9ebee177-6f08-43d5-e2c1-d0cf225c7633"
      },
      "source": [
        "#RUMUS BER\r\n",
        "pengkali_list = []\r\n",
        "def BER_rumus():\r\n",
        "  #PARAMETER PELENGKAP RUMUS BER\r\n",
        "  akar = 1/(Q * m.sqrt(2 * m.pi))\r\n",
        "\r\n",
        "  #PERULANGAN YANG DIGUNAKAN UNTUK KALKULASI Q PASA LIBRARY MATH\r\n",
        "  for i in range(len(Q)):\r\n",
        "    pengkali = m.exp(-(Q[i]**2)/2)\r\n",
        "    pengkali_list.append(pengkali)\r\n",
        "  #RUMUS BER\r\n",
        "  BER = (1/akar)*(pengkali_list)\r\n",
        "\r\n",
        "  return BER\r\n",
        "  \r\n",
        "BER = BER_rumus()\r\n",
        "print('BER = ', BER)"
      ],
      "execution_count": 148,
      "outputs": [
        {
          "output_type": "stream",
          "text": [
            "BER =  [1.22719600e-20 4.26647196e-18 7.27625157e-16 6.63116769e-14\n",
            " 3.48197348e-12 1.12565194e-10 2.37500285e-09 3.44273731e-08\n",
            " 3.58711494e-07 2.79546405e-06 1.68741128e-05 8.13601431e-05\n",
            " 3.21946999e-04 1.07073698e-03 3.05637115e-03 7.62707649e-03\n",
            " 1.69113760e-02]\n"
          ],
          "name": "stdout"
        }
      ]
    },
    {
      "cell_type": "code",
      "metadata": {
        "colab": {
          "base_uri": "https://localhost:8080/",
          "height": 851
        },
        "id": "FHa5c16j9Fe5",
        "outputId": "acfa405f-3bc3-4a8f-e601-a02969693a14"
      },
      "source": [
        "#GRAFIK\r\n",
        "\r\n",
        "#GRAFIK PERBANDINGAN JARAK DENGAN SNR\r\n",
        "def grafik_1():\r\n",
        "  plt.figure()\r\n",
        "  plt.plot(d,SNR_dBm,'r')\r\n",
        "  plt.title('Perbandingan Jarak dengan SNR')\r\n",
        "  plt.xlabel('Jarak (Km)')\r\n",
        "  plt.ylabel('SNR (dB)')\r\n",
        "  plt.show()\r\n",
        "\r\n",
        "#GRAFIK PERBANDINGAN JARAK DENGAN Q-FACTOR\r\n",
        "def grafik_2():\r\n",
        "  plt.figure()\r\n",
        "  plt.plot(d,Q,'g')\r\n",
        "  plt.title('Perbandingan Jarak dengan Q')\r\n",
        "  plt.xlabel('Jarak (Km)')\r\n",
        "  plt.ylabel('Q')\r\n",
        "  plt.show()\r\n",
        "\r\n",
        "#GRAFIK PERBANDINGAN ANTARA JARAK DENGAN BER\r\n",
        "def grafik_3():\r\n",
        "  plt.figure()\r\n",
        "  plt.plot(d,BER,'b')\r\n",
        "  plt.title('Perbandingan Jarak dengan BER')\r\n",
        "  plt.xlabel('Jarak (Km)')\r\n",
        "  plt.ylabel('BER')\r\n",
        "  plt.show()\r\n",
        "\r\n",
        "\r\n",
        "grafik_1()\r\n",
        "grafik_2()\r\n",
        "grafik_3()"
      ],
      "execution_count": 149,
      "outputs": [
        {
          "output_type": "display_data",
          "data": {
            "image/png": "[encoded data removed]",
            "text/plain": [
              "<Figure size 432x288 with 1 Axes>"
            ]
          },
          "metadata": {
            "tags": [],
            "needs_background": "light"
          }
        },
        {
          "output_type": "display_data",
          "data": {
            "image/png": "[encoded data removed]",
            "text/plain": [
              "<Figure size 432x288 with 1 Axes>"
            ]
          },
          "metadata": {
            "tags": [],
            "needs_background": "light"
          }
        },
        {
          "output_type": "display_data",
          "data": {
            "image/png": "[encoded data removed]",
            "text/plain": [
              "<Figure size 432x288 with 1 Axes>"
            ]
          },
          "metadata": {
            "tags": [],
            "needs_background": "light"
          }
        }
      ]
    }
  ]
}